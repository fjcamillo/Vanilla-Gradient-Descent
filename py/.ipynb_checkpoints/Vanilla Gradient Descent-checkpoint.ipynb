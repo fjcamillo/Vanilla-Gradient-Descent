{
 "cells": [
  {
   "cell_type": "markdown",
   "metadata": {},
   "source": [
    "# Vanilla Gradient Descent"
   ]
  },
  {
   "cell_type": "markdown",
   "metadata": {},
   "source": [
    "implementation of gradient descent using only numpy\n",
    "\n",
    "Notes:\n",
    "\n",
    "<a href>http://cs229.stanford.edu/notes/cs229-notes1.pdf</a>"
   ]
  },
  {
   "cell_type": "code",
   "execution_count": 1,
   "metadata": {
    "collapsed": true
   },
   "outputs": [],
   "source": [
    "import numpy as np\n",
    "from functools import reduce\n",
    "%matplotlib inline\n",
    "import matplotlib.pyplot as plt\n",
    "import pandas as pd"
   ]
  },
  {
   "cell_type": "code",
   "execution_count": 9,
   "metadata": {
    "collapsed": true
   },
   "outputs": [],
   "source": [
    "data = pd.read_csv('banks.csv')"
   ]
  },
  {
   "cell_type": "code",
   "execution_count": 10,
   "metadata": {},
   "outputs": [],
   "source": [
    "data = data.drop(['Financial Institution Number', 'Insurance Fund','Institution Name', 'Institution Type', 'Headquarters', 'Failure Date', 'Certificate Number', 'Transaction Type', 'Estimated Loss (2015)'], axis=1)\n",
    "data.drop(['Charter Type',], axis=1, inplace=True)\n",
    "data = data[data['Total Assets'] < 2000263.0]\n",
    "data = data[data['Total Assets'] > 1000000]\n",
    "data = data[data['Total Deposits'] < 2000263.0]\n",
    "data = data[data['Total Deposits'] > 1000000]"
   ]
  },
  {
   "cell_type": "code",
   "execution_count": 15,
   "metadata": {},
   "outputs": [
    {
     "data": {
      "text/plain": [
       "Index(['Total Deposits', 'Total Assets'], dtype='object')"
      ]
     },
     "execution_count": 15,
     "metadata": {},
     "output_type": "execute_result"
    }
   ],
   "source": [
    "data.columns"
   ]
  },
  {
   "cell_type": "code",
   "execution_count": 141,
   "metadata": {},
   "outputs": [
    {
     "data": {
      "text/plain": [
       "array([[ 0.34133342]])"
      ]
     },
     "execution_count": 141,
     "metadata": {},
     "output_type": "execute_result"
    }
   ],
   "source": [
    "np.random.rand(1,1)"
   ]
  },
  {
   "cell_type": "code",
   "execution_count": null,
   "metadata": {
    "collapsed": true
   },
   "outputs": [],
   "source": []
  },
  {
   "cell_type": "code",
   "execution_count": 150,
   "metadata": {},
   "outputs": [],
   "source": [
    "class gradient_descent:\n",
    "    \n",
    "    def __init__(self, x, y, epochs, rate, debug=False):\n",
    "        self.x = np.array([x])\n",
    "        self.y = np.array([y])\n",
    "        self.epochs = epochs\n",
    "        self.learning_rate = rate\n",
    "        self.debug = debug\n",
    "        self.model_thetas = [np.random.rand(self.x.shape[1],1)[0]]\n",
    "        self.model_costs = []\n",
    "        self.model_hypothesis = []\n",
    "        \n",
    "    def set_thetas(self, theta):\n",
    "        self.model_thetas = theta\n",
    "        \n",
    "    def thetas(self):\n",
    "        return self.model_thetas\n",
    "    \n",
    "    def costs(self):\n",
    "        return self.model_costs\n",
    "    \n",
    "    def hypo(self):\n",
    "        return self.model_hypothesis\n",
    "    \n",
    "    def minimized(self):\n",
    "        output = {\n",
    "            'thetas': self.model_thetas[-1],\n",
    "            'costs': self.model_costs[-1],\n",
    "            'hypothesis': self.model_hypothesis[-1]\n",
    "        }\n",
    "        return output\n",
    "    \n",
    "    def compute(self):\n",
    "        for i in range(self.epochs):\n",
    "            print(i)\n",
    "            hypothesis = self.model_thetas[-1].transpose()*self.x\n",
    "            new_cost = np.divide(np.sum(np.square(np.subtract(hypothesis, self.y))),self.x.shape[1])\n",
    "            MLE = np.subtract(self.y, hypothesis).dot(self.x.reshape(self.y.shape[1],1))[0]\n",
    "            new_theta = np.add(self.model_thetas[-1],np.multiply(self.learning_rate,  MLE))\n",
    "            self.model_hypothesis.append(hypothesis)\n",
    "            self.model_costs.append(new_cost)\n",
    "            self.model_thetas.append(new_theta)"
   ]
  },
  {
   "cell_type": "markdown",
   "metadata": {},
   "source": [
    "### Use the class"
   ]
  },
  {
   "cell_type": "code",
   "execution_count": 151,
   "metadata": {},
   "outputs": [],
   "source": [
    "house = gradient_descent(x=data['Total Deposits'][:4], y=data['Total Assets'][:4], epochs=3, rate=1, debug=False)"
   ]
  },
  {
   "cell_type": "code",
   "execution_count": 152,
   "metadata": {},
   "outputs": [
    {
     "name": "stdout",
     "output_type": "stream",
     "text": [
      "0\n",
      "1\n",
      "2\n"
     ]
    }
   ],
   "source": [
    "house.compute()"
   ]
  },
  {
   "cell_type": "code",
   "execution_count": 153,
   "metadata": {},
   "outputs": [
    {
     "data": {
      "text/plain": [
       "[1192200422935.3623, 1.038967740024379e+38, 9.284276858006052e+63]"
      ]
     },
     "execution_count": 153,
     "metadata": {},
     "output_type": "execute_result"
    }
   ],
   "source": [
    "house.costs()"
   ]
  },
  {
   "cell_type": "code",
   "execution_count": 154,
   "metadata": {},
   "outputs": [
    {
     "data": {
      "text/plain": [
       "[array([ 0.4218129]),\n",
       " array([  6.63047317e+12]),\n",
       " array([ -6.26783467e+25]),\n",
       " array([  5.92502984e+38])]"
      ]
     },
     "execution_count": 154,
     "metadata": {},
     "output_type": "execute_result"
    }
   ],
   "source": [
    "house.thetas()"
   ]
  },
  {
   "cell_type": "code",
   "execution_count": 155,
   "metadata": {},
   "outputs": [
    {
     "data": {
      "text/plain": [
       "[array([[ 632191.2373136 ,  548924.52761445,  761908.40515796,\n",
       "          632819.31671879]]),\n",
       " array([[  9.93740841e+18,   8.62853974e+18,   1.19764314e+19,\n",
       "           9.94728118e+18]]),\n",
       " array([[ -9.39390467e+31,  -8.15662157e+31,  -1.13214080e+32,\n",
       "          -9.40323748e+31]])]"
      ]
     },
     "execution_count": 155,
     "metadata": {},
     "output_type": "execute_result"
    }
   ],
   "source": [
    "house.hypo()"
   ]
  },
  {
   "cell_type": "code",
   "execution_count": 131,
   "metadata": {},
   "outputs": [
    {
     "data": {
      "text/plain": [
       "{'costs': 4.9331714812095866e+64,\n",
       " 'hypothesis': array([[[[ -1.08269272e+32,  -9.40089891e+31,  -1.30484676e+32,\n",
       "            -1.08376837e+32]],\n",
       " \n",
       "         [[ -1.08269272e+32,  -9.40089891e+31,  -1.30484676e+32,\n",
       "            -1.08376837e+32]],\n",
       " \n",
       "         [[ -1.08269272e+32,  -9.40089891e+31,  -1.30484676e+32,\n",
       "            -1.08376837e+32]],\n",
       " \n",
       "         [[ -1.08269272e+32,  -9.40089891e+31,  -1.30484676e+32,\n",
       "            -1.08376837e+32]]]]),\n",
       " 'thetas': array([[[[[  6.82888204e+38],\n",
       "           [  6.82888204e+38],\n",
       "           [  6.82888204e+38],\n",
       "           [  6.82888204e+38]],\n",
       " \n",
       "          [[  6.82888204e+38],\n",
       "           [  6.82888204e+38],\n",
       "           [  6.82888204e+38],\n",
       "           [  6.82888204e+38]],\n",
       " \n",
       "          [[  6.82888204e+38],\n",
       "           [  6.82888204e+38],\n",
       "           [  6.82888204e+38],\n",
       "           [  6.82888204e+38]],\n",
       " \n",
       "          [[  6.82888204e+38],\n",
       "           [  6.82888204e+38],\n",
       "           [  6.82888204e+38],\n",
       "           [  6.82888204e+38]]]]])}"
      ]
     },
     "execution_count": 131,
     "metadata": {},
     "output_type": "execute_result"
    }
   ],
   "source": [
    "house.minimized()"
   ]
  },
  {
   "cell_type": "code",
   "execution_count": null,
   "metadata": {
    "collapsed": true
   },
   "outputs": [],
   "source": []
  }
 ],
 "metadata": {
  "kernelspec": {
   "display_name": "Python 3",
   "language": "python",
   "name": "python3"
  },
  "language_info": {
   "codemirror_mode": {
    "name": "ipython",
    "version": 3
   },
   "file_extension": ".py",
   "mimetype": "text/x-python",
   "name": "python",
   "nbconvert_exporter": "python",
   "pygments_lexer": "ipython3",
   "version": "3.6.3"
  }
 },
 "nbformat": 4,
 "nbformat_minor": 1
}
