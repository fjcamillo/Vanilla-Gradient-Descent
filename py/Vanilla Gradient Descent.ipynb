{
 "cells": [
  {
   "cell_type": "markdown",
   "metadata": {},
   "source": [
    "# Vanilla Gradient Descent"
   ]
  },
  {
   "cell_type": "markdown",
   "metadata": {},
   "source": [
    "implementation of gradient descent using only numpy\n",
    "\n",
    "Notes:\n",
    "\n",
    "<a href>http://cs229.stanford.edu/notes/cs229-notes1.pdf</a>"
   ]
  },
  {
   "cell_type": "code",
   "execution_count": 1,
   "metadata": {
    "collapsed": true
   },
   "outputs": [],
   "source": [
    "import numpy as np"
   ]
  },
  {
   "cell_type": "code",
   "execution_count": 2,
   "metadata": {
    "collapsed": true
   },
   "outputs": [],
   "source": [
    "from functools import reduce"
   ]
  },
  {
   "cell_type": "code",
   "execution_count": 3,
   "metadata": {},
   "outputs": [],
   "source": [
    "%matplotlib inline\n",
    "import matplotlib.pyplot as plt"
   ]
  },
  {
   "cell_type": "code",
   "execution_count": 4,
   "metadata": {
    "collapsed": true
   },
   "outputs": [],
   "source": [
    "dataset = {\n",
    "    'size_in_feet': [\n",
    "        2104,\n",
    "        1416,\n",
    "        1534,\n",
    "        852,\n",
    "        2506\n",
    "    ],\n",
    "    'price':[\n",
    "        460,\n",
    "        232,\n",
    "        315,\n",
    "        178,\n",
    "        500\n",
    "    ]\n",
    "}"
   ]
  },
  {
   "cell_type": "code",
   "execution_count": null,
   "metadata": {},
   "outputs": [],
   "source": [
    "dataset['size_in_feet']"
   ]
  },
  {
   "cell_type": "code",
   "execution_count": null,
   "metadata": {},
   "outputs": [],
   "source": [
    "np.dot([[1, 2], [4,1]], [[2, 3],[4,4]])"
   ]
  },
  {
   "cell_type": "code",
   "execution_count": null,
   "metadata": {},
   "outputs": [],
   "source": [
    "a = np.array([[1, 2, 3]])\n",
    "a.shape"
   ]
  },
  {
   "cell_type": "code",
   "execution_count": null,
   "metadata": {},
   "outputs": [],
   "source": [
    "a.transpose()"
   ]
  },
  {
   "cell_type": "code",
   "execution_count": null,
   "metadata": {},
   "outputs": [],
   "source": [
    "a.transpose().shape"
   ]
  },
  {
   "cell_type": "code",
   "execution_count": null,
   "metadata": {},
   "outputs": [],
   "source": [
    "reduce(lambda x,y: x+y, [1,1,1])"
   ]
  },
  {
   "cell_type": "code",
   "execution_count": null,
   "metadata": {},
   "outputs": [],
   "source": [
    "np.shape([1,2\n",
    "        ])"
   ]
  },
  {
   "cell_type": "code",
   "execution_count": null,
   "metadata": {
    "collapsed": true
   },
   "outputs": [],
   "source": [
    "q = np.array([4,6])\n",
    "w = np.array([2,3])"
   ]
  },
  {
   "cell_type": "code",
   "execution_count": null,
   "metadata": {},
   "outputs": [],
   "source": [
    "np.subtract(q,w).dot(w)"
   ]
  },
  {
   "cell_type": "code",
   "execution_count": null,
   "metadata": {},
   "outputs": [],
   "source": [
    "np.multiply(q,w)"
   ]
  },
  {
   "cell_type": "code",
   "execution_count": null,
   "metadata": {},
   "outputs": [],
   "source": [
    "np.subtract(q,w)"
   ]
  },
  {
   "cell_type": "code",
   "execution_count": null,
   "metadata": {},
   "outputs": [],
   "source": [
    "q.dot(w)"
   ]
  },
  {
   "cell_type": "code",
   "execution_count": null,
   "metadata": {},
   "outputs": [],
   "source": [
    "np.random.random(size=[4,1])"
   ]
  },
  {
   "cell_type": "code",
   "execution_count": null,
   "metadata": {
    "collapsed": true
   },
   "outputs": [],
   "source": []
  },
  {
   "cell_type": "code",
   "execution_count": null,
   "metadata": {
    "collapsed": true
   },
   "outputs": [],
   "source": []
  },
  {
   "cell_type": "code",
   "execution_count": 5,
   "metadata": {},
   "outputs": [],
   "source": [
    "class gradient_descent:\n",
    "    \n",
    "    def __init__(self, x, y, epochs, rate, debug=False):\n",
    "        self.x = np.array([x])\n",
    "        self.y = np.array([y])\n",
    "        self.epochs = epochs\n",
    "        self.learning_rate = rate\n",
    "        self.debug = debug\n",
    "        self.model_thetas = [np.random.random(size=[self.x.shape[1],1])]\n",
    "        self.model_costs = []\n",
    "        self.model_hypothesis = []\n",
    "        \n",
    "    def set_thetas(self, theta):\n",
    "        self.model_thetas = theta\n",
    "        \n",
    "    def thetas(self):\n",
    "        return self.model_thetas\n",
    "    \n",
    "    def costs(self):\n",
    "        return self.model_costs\n",
    "    \n",
    "    def hypo(self):\n",
    "        return self.model_hypothesis\n",
    "    \n",
    "    def minimized(self):\n",
    "        output = {\n",
    "            'thetas': self.model_thetas[-1],\n",
    "            'costs': self.model_costs[-1],\n",
    "            'hypothesis': self.model_hypothesis[-1]\n",
    "        }\n",
    "        return output\n",
    "    \n",
    "    def compute(self):\n",
    "        for i in range(self.epochs):\n",
    "            print(i)\n",
    "            print(self.model_thetas[-1].shape)\n",
    "            print(self.x.shape)\n",
    "            hypothesis = self.model_thetas[-1].transpose()*self.x\n",
    "            new_cost = np.divide(np.sum(np.square(np.subtract(hypothesis, self.y))),self.x.shape[1])\n",
    "            print('HYPO',hypothesis)\n",
    "            print('HYPO',hypothesis.shape)\n",
    "            print('y', self.y)\n",
    "            print(np.subtract(self.y, hypothesis))\n",
    "            MLE = np.subtract(self.y, hypothesis).dot(self.x.reshape(5,1))\n",
    "            new_theta = np.add(self.model_thetas[-1],np.multiply(self.learning_rate,  MLE))\n",
    "            self.model_hypothesis.append(hypothesis)\n",
    "            self.model_costs.append(new_cost)\n",
    "            self.model_thetas.append(np.array([new_theta]))"
   ]
  },
  {
   "cell_type": "markdown",
   "metadata": {},
   "source": [
    "### Use the class"
   ]
  },
  {
   "cell_type": "code",
   "execution_count": 6,
   "metadata": {},
   "outputs": [],
   "source": [
    "house = gradient_descent(x=dataset['size_in_feet'], y=dataset['price'], epochs=2, rate=1e-10, debug=False)"
   ]
  },
  {
   "cell_type": "code",
   "execution_count": 7,
   "metadata": {},
   "outputs": [
    {
     "name": "stdout",
     "output_type": "stream",
     "text": [
      "0\n",
      "(5, 1)\n",
      "(1, 5)\n",
      "HYPO [[  605.77708439   186.54493801  1250.70671277   681.12129696\n",
      "   1752.76064959]]\n",
      "HYPO (1, 5)\n",
      "y [[460 232 315 178 500]]\n",
      "[[ -145.77708439    45.45506199  -935.70671277  -503.12129696\n",
      "  -1252.76064959]]\n",
      "1\n",
      "(1, 5, 1)\n",
      "(1, 5)\n",
      "HYPO [[[  604.6733676    406.94747553   440.85976516   244.8582268\n",
      "     720.20506616]\n",
      "  [  276.07887471   185.80213241   201.28564344   111.79619831\n",
      "     328.82778518]\n",
      "  [ 1714.3375633   1153.75569849  1249.9020067    694.20893723\n",
      "    2041.88685058]\n",
      "  [ 1680.91413392  1131.26160343  1225.53340372   680.67435461\n",
      "    2002.07738574]\n",
      "  [ 1470.4878262    989.64389824  1072.11422309   595.46370148\n",
      "    1751.44605154]]]\n",
      "HYPO (1, 5, 5)\n",
      "y [[460 232 315 178 500]]\n",
      "[[[ -144.6733676   -174.94747553  -125.85976516   -66.8582268\n",
      "    -220.20506616]\n",
      "  [  183.92112529    46.19786759   113.71435656    66.20380169\n",
      "     171.17221482]\n",
      "  [-1254.3375633   -921.75569849  -934.9020067   -516.20893723\n",
      "   -1541.88685058]\n",
      "  [-1220.91413392  -899.26160343  -910.53340372  -502.67435461\n",
      "   -1502.07738574]\n",
      "  [-1010.4878262   -757.64389824  -757.11422309  -417.46370148\n",
      "   -1251.44605154]]]\n"
     ]
    }
   ],
   "source": [
    "house.compute()"
   ]
  },
  {
   "cell_type": "code",
   "execution_count": null,
   "metadata": {
    "collapsed": true
   },
   "outputs": [],
   "source": []
  },
  {
   "cell_type": "code",
   "execution_count": null,
   "metadata": {
    "collapsed": true
   },
   "outputs": [],
   "source": []
  }
 ],
 "metadata": {
  "kernelspec": {
   "display_name": "Python 3",
   "language": "python",
   "name": "python3"
  },
  "language_info": {
   "codemirror_mode": {
    "name": "ipython",
    "version": 3
   },
   "file_extension": ".py",
   "mimetype": "text/x-python",
   "name": "python",
   "nbconvert_exporter": "python",
   "pygments_lexer": "ipython3",
   "version": "3.6.1"
  }
 },
 "nbformat": 4,
 "nbformat_minor": 1
}
