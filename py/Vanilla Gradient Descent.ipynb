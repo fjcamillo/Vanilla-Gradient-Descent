{
 "cells": [
  {
   "cell_type": "markdown",
   "metadata": {},
   "source": [
    "# Vanilla Gradient Descent"
   ]
  },
  {
   "cell_type": "markdown",
   "metadata": {},
   "source": [
    "implementation of gradient descent using only numpy\n",
    "\n",
    "Notes:\n",
    "\n",
    "<a href>http://cs229.stanford.edu/notes/cs229-notes1.pdf</a>"
   ]
  },
  {
   "cell_type": "code",
   "execution_count": 1,
   "metadata": {
    "collapsed": true
   },
   "outputs": [],
   "source": [
    "import numpy as np\n",
    "import asyncio"
   ]
  },
  {
   "cell_type": "code",
   "execution_count": 2,
   "metadata": {
    "collapsed": true
   },
   "outputs": [],
   "source": [
    "import functools"
   ]
  },
  {
   "cell_type": "code",
   "execution_count": 26,
   "metadata": {},
   "outputs": [],
   "source": [
    "%matplotlib inline\n",
    "import matplotlib.pyplot as plt"
   ]
  },
  {
   "cell_type": "code",
   "execution_count": 61,
   "metadata": {
    "collapsed": true
   },
   "outputs": [],
   "source": [
    "dataset = {\n",
    "    'size_in_feet': [\n",
    "        2104,\n",
    "        1416,\n",
    "        1534,\n",
    "        852,\n",
    "        2506\n",
    "    ],\n",
    "    'price':[\n",
    "        460,\n",
    "        232,\n",
    "        315,\n",
    "        178,\n",
    "        500\n",
    "    ]\n",
    "}"
   ]
  },
  {
   "cell_type": "code",
   "execution_count": 76,
   "metadata": {
    "collapsed": true
   },
   "outputs": [],
   "source": [
    "#linear function => h(x) = Theta\n",
    "def linearfunction(t0, t1, x):\n",
    "    linear = np.add(np.multiply(t1, x), t0)\n",
    "    return linear"
   ]
  },
  {
   "cell_type": "code",
   "execution_count": 86,
   "metadata": {},
   "outputs": [],
   "source": [
    "#Gradient Descent\n",
    "# *params:\n",
    "# theta_zero => cost variable to be minimized\n",
    "# theta_one => cost variable to be minimized\n",
    "# learning_rate => learning rate of the gradient descent\n",
    "# xArray => Array that holds the x dataset\n",
    "# yArray => Array that holds the y dataset\n",
    "\n",
    "def gradientdescent(learning_rate, xArray, yArray, theta_zero, theta_one):\n",
    "    if len(xArray)!=len(yArray): return \"The Arrays are not equal\"     \n",
    "    \n",
    "    mapped_t0 = list(map(lambda x,y: np.subtract(linearfunction(theta_zero, theta_one, x),y) , xArray, yArray))\n",
    "    linear_regression_t0 = functools.reduce(lambda x,y: x+y, mapped_t0)\n",
    "                      \n",
    "#     derLRM_t0= linear_regression_t0/len(xArray)\n",
    "    derLRM_t0 = linear_regression_t0\n",
    "        \n",
    "    gradient_t0 = np.subtract(theta_zero, np.multiply(learning_rate, derLRM_t0))\n",
    "\n",
    "    mapped_t1 = list(map(lambda x,y: np.multiply(np.subtract(linearfunction(theta_zero, theta_one, x),y), x) , xArray, yArray))\n",
    "    linear_regression_t1 = functools.reduce(lambda x,y: x+y, mapped_t1)\n",
    "                      \n",
    "#     derLRM_t1 = linear_regression_t1/len(xArray)\n",
    "    derLRM_t1 = linear_regression_t1\n",
    "        \n",
    "    gradient_t1 = np.subtract(theta_one, np.multiply(learning_rate, derLRM_t1))\n",
    "    \n",
    "    return [gradient_t0, gradient_t1]\n",
    "                      "
   ]
  },
  {
   "cell_type": "code",
   "execution_count": 90,
   "metadata": {},
   "outputs": [],
   "source": [
    "gradient_descent_values = {\n",
    "    'gradients':{\n",
    "        'theta_zero': [0],\n",
    "        'theta_one': [0]\n",
    "    },\n",
    "    'linear_regression': []\n",
    "}"
   ]
  },
  {
   "cell_type": "code",
   "execution_count": 91,
   "metadata": {
    "collapsed": true
   },
   "outputs": [],
   "source": [
    "learning_rate = 0.1"
   ]
  },
  {
   "cell_type": "code",
   "execution_count": 93,
   "metadata": {},
   "outputs": [],
   "source": [
    "for i in range(20):\n",
    "    t_zero = gradient_descent_values['gradients']['theta_zero'][-1]\n",
    "    t_one = gradient_descent_values['gradients']['theta_one'][-1]\n",
    "    \n",
    "    BGD = gradientdescent(learning_rate, dataset['size_in_feet'], dataset['price'], t_zero, t_one)\n",
    "    \n",
    "    gradient_descent_values['gradients']['theta_zero'].append(BGD[0])\n",
    "    gradient_descent_values['gradients']['theta_one'].append(BGD[1])"
   ]
  },
  {
   "cell_type": "code",
   "execution_count": 94,
   "metadata": {},
   "outputs": [
    {
     "data": {
      "text/plain": [
       "{'gradients': {'theta_one': [0,\n",
       "   318421.80000000005,\n",
       "   -502818350328.84009,\n",
       "   7.939985704881248e+17,\n",
       "   -1.2538001636667229e+24,\n",
       "   1.9798711343324927e+30,\n",
       "   -3.1264070799762564e+36,\n",
       "   4.9368976900716708e+42,\n",
       "   -7.7958366197213519e+48,\n",
       "   1.2310376357121983e+55,\n",
       "   -1.9439269118418828e+61,\n",
       "   3.0696476930999119e+67,\n",
       "   -4.8472691552099094e+73,\n",
       "   7.654304536597071e+79,\n",
       "   -1.2086883575672487e+86,\n",
       "   1.908635250575107e+92,\n",
       "   -3.0139187632037896e+98,\n",
       "   4.7592678110994615e+104,\n",
       "   -7.5153419442831586e+110,\n",
       "   1.1867448267521209e+117,\n",
       "   -1.8739843033945365e+123,\n",
       "   2.9592015825173091e+129,\n",
       "   -4.672864116369992e+135,\n",
       "   7.37890219411255e+141,\n",
       "   -1.165199676993301e+148,\n",
       "   1.8399624382453012e+154,\n",
       "   -2.9054777829062656e+160,\n",
       "   4.5880290659696937e+166,\n",
       "   -7.2449394843167668e+172,\n",
       "   1.1440456757507129e+179,\n",
       "   -1.8065582342505035e+185,\n",
       "   2.8527293297068023e+191,\n",
       "   -4.5047341814285351e+197,\n",
       "   7.1134088446506243e+203,\n",
       "   -1.1232757217898113e+210,\n",
       "   1.7737604778773158e+216,\n",
       "   -2.8009385156713012e+222,\n",
       "   4.4229515012982373e+228,\n",
       "   -6.9842661212960567e+234,\n",
       "   1.1028828427977522e+241,\n",
       "   -1.7415581591726852e+247],\n",
       "  'theta_zero': [0,\n",
       "   168.5,\n",
       "   -267856165.41000006,\n",
       "   422970662368706.06,\n",
       "   -6.6791138600927953e+20,\n",
       "   1.0546963637207544e+27,\n",
       "   -1.6654670708523109e+33,\n",
       "   2.6299328029424919e+39,\n",
       "   -4.1529170219218885e+45,\n",
       "   6.5578556880510908e+51,\n",
       "   -1.0355485312683168e+58,\n",
       "   1.6352308004671265e+64,\n",
       "   -2.5821868218202458e+70,\n",
       "   4.0775215222691641e+76,\n",
       "   -6.4387989374246945e+82,\n",
       "   1.0167483244456228e+89,\n",
       "   -1.6055434644096178e+95,\n",
       "   2.535307660835296e+101,\n",
       "   -4.0034948150430371e+107,\n",
       "   6.3219036417835856e+113,\n",
       "   -9.9828943216870212e+119,\n",
       "   1.576395096870768e+126,\n",
       "   -2.4892795830160119e+132,\n",
       "   3.9308120500506462e+138,\n",
       "   -6.2071305602814513e+144,\n",
       "   9.8016565793023675e+150,\n",
       "   -1.5477759129691184e+157,\n",
       "   2.4440871370927943e+163,\n",
       "   -3.8594488282501386e+169,\n",
       "   6.0944411644828503e+175,\n",
       "   -9.6237091771944146e+181,\n",
       "   1.5196763054660647e+188,\n",
       "   -2.3997151523112093e+194,\n",
       "   3.789381193560108e+200,\n",
       "   -5.9837976254295088e+206,\n",
       "   9.4489923797970791e+212,\n",
       "   -1.492086841540779e+219,\n",
       "   2.3561487333392781e+225,\n",
       "   -3.7205856248177108e+231,\n",
       "   5.8751628009414295e+237,\n",
       "   -9.2774475360332902e+243]},\n",
       " 'linear_regression': []}"
      ]
     },
     "execution_count": 94,
     "metadata": {},
     "output_type": "execute_result"
    }
   ],
   "source": [
    "gradient_descent_values"
   ]
  },
  {
   "cell_type": "code",
   "execution_count": 81,
   "metadata": {},
   "outputs": [
    {
     "data": {
      "image/png": "[encoded data removed]",
      "text/plain": [
       "<matplotlib.figure.Figure at 0x7f89853bb080>"
      ]
     },
     "metadata": {},
     "output_type": "display_data"
    }
   ],
   "source": [
    "counter = 0\n",
    "for i in range(len(gradient_descent_values['gradients']['theta_zero'])):\n",
    "    plt.bar([counter], gradient_descent_values['gradients']['theta_zero'][i])\n",
    "    counter += 1\n",
    "plt.show()"
   ]
  },
  {
   "cell_type": "code",
   "execution_count": 82,
   "metadata": {},
   "outputs": [
    {
     "data": {
      "image/png": "[encoded data removed]",
      "text/plain": [
       "<matplotlib.figure.Figure at 0x7f89827c5860>"
      ]
     },
     "metadata": {},
     "output_type": "display_data"
    }
   ],
   "source": [
    "plt.scatter(dataset['size_in_feet'], dataset['price'])\n",
    "plt.show()"
   ]
  },
  {
   "cell_type": "code",
   "execution_count": null,
   "metadata": {
    "collapsed": true
   },
   "outputs": [],
   "source": []
  }
 ],
 "metadata": {
  "kernelspec": {
   "display_name": "Python 3",
   "language": "python",
   "name": "python3"
  },
  "language_info": {
   "codemirror_mode": {
    "name": "ipython",
    "version": 3
   },
   "file_extension": ".py",
   "mimetype": "text/x-python",
   "name": "python",
   "nbconvert_exporter": "python",
   "pygments_lexer": "ipython3",
   "version": "3.5.3"
  }
 },
 "nbformat": 4,
 "nbformat_minor": 1
}
