{
 "cells": [
  {
   "cell_type": "markdown",
   "metadata": {},
   "source": [
    "# Vanilla Gradient Descent"
   ]
  },
  {
   "cell_type": "markdown",
   "metadata": {},
   "source": [
    "implementation of gradient descent using only numpy\n",
    "\n",
    "Notes:\n",
    "\n",
    "<a href>http://cs229.stanford.edu/notes/cs229-notes1.pdf</a>"
   ]
  },
  {
   "cell_type": "code",
   "execution_count": 1,
   "metadata": {
    "collapsed": true
   },
   "outputs": [],
   "source": [
    "import numpy as np\n",
    "from functools import reduce\n",
    "%matplotlib inline\n",
    "import matplotlib.pyplot as plt\n",
    "import pandas as pd"
   ]
  },
  {
   "cell_type": "code",
   "execution_count": 9,
   "metadata": {
    "collapsed": true
   },
   "outputs": [],
   "source": [
    "data = pd.read_csv('banks.csv')"
   ]
  },
  {
   "cell_type": "code",
   "execution_count": 10,
   "metadata": {},
   "outputs": [],
   "source": [
    "data = data.drop(['Financial Institution Number', 'Insurance Fund','Institution Name', 'Institution Type', 'Headquarters', 'Failure Date', 'Certificate Number', 'Transaction Type', 'Estimated Loss (2015)'], axis=1)\n",
    "data.drop(['Charter Type',], axis=1, inplace=True)\n",
    "data = data[data['Total Assets'] < 2000263.0]\n",
    "data = data[data['Total Assets'] > 1000000]\n",
    "data = data[data['Total Deposits'] < 2000263.0]\n",
    "data = data[data['Total Deposits'] > 1000000]"
   ]
  },
  {
   "cell_type": "code",
   "execution_count": 15,
   "metadata": {},
   "outputs": [
    {
     "data": {
      "text/plain": [
       "Index(['Total Deposits', 'Total Assets'], dtype='object')"
      ]
     },
     "execution_count": 15,
     "metadata": {},
     "output_type": "execute_result"
    }
   ],
   "source": [
    "data.columns"
   ]
  },
  {
   "cell_type": "code",
   "execution_count": 141,
   "metadata": {},
   "outputs": [
    {
     "data": {
      "text/plain": [
       "array([[ 0.34133342]])"
      ]
     },
     "execution_count": 141,
     "metadata": {},
     "output_type": "execute_result"
    }
   ],
   "source": [
    "np.random.rand(1,1)"
   ]
  },
  {
   "cell_type": "code",
   "execution_count": null,
   "metadata": {
    "collapsed": true
   },
   "outputs": [],
   "source": []
  },
  {
   "cell_type": "code",
   "execution_count": 180,
   "metadata": {},
   "outputs": [],
   "source": [
    "class gradient_descent:\n",
    "    \n",
    "    def __init__(self, x, y, epochs, rate, debug=False):\n",
    "        self.x = np.array([x])\n",
    "        self.y = np.array([y])\n",
    "        self.epochs = epochs\n",
    "        self.learning_rate = rate\n",
    "        self.debug = debug\n",
    "        self.model_thetas = [np.random.rand(self.x.shape[1],1)]\n",
    "        self.model_costs = []\n",
    "        self.model_hypothesis = []\n",
    "        \n",
    "    def set_thetas(self, theta):\n",
    "        self.model_thetas = theta\n",
    "        \n",
    "    def thetas(self):\n",
    "        return self.model_thetas\n",
    "    \n",
    "    def costs(self):\n",
    "        return self.model_costs\n",
    "    \n",
    "    def hypo(self):\n",
    "        return self.model_hypothesis\n",
    "    \n",
    "    def minimized(self):\n",
    "        output = {\n",
    "            'thetas': self.model_thetas,\n",
    "            'costs': self.model_costs[-1],\n",
    "            'hypothesis': self.model_hypothesis[-1]\n",
    "        }\n",
    "        return output\n",
    "    \n",
    "    def compute(self):\n",
    "        for i in range(self.epochs):\n",
    "            print(i)\n",
    "            hypothesis = self.model_thetas[-1].transpose()*self.x\n",
    "            new_cost = np.divide(np.sum(np.square(np.subtract(hypothesis, self.y))),self.x.shape[1])\n",
    "            MLE = np.subtract(self.y, hypothesis).dot(self.x.reshape(self.y.shape[1],1))[0]\n",
    "            new_theta = np.add(self.model_thetas[-1],np.multiply(self.learning_rate,  MLE))\n",
    "            self.model_hypothesis.append(hypothesis)\n",
    "            self.model_costs.append(new_cost)\n",
    "            self.model_thetas.append(new_theta)"
   ]
  },
  {
   "cell_type": "markdown",
   "metadata": {},
   "source": [
    "### Use the class"
   ]
  },
  {
   "cell_type": "code",
   "execution_count": 181,
   "metadata": {},
   "outputs": [],
   "source": [
    "house = gradient_descent(x=data['Total Deposits'][:4], y=data['Total Assets'][:4], epochs=20, rate=1e-6, debug=False)"
   ]
  },
  {
   "cell_type": "code",
   "execution_count": 182,
   "metadata": {},
   "outputs": [
    {
     "name": "stdout",
     "output_type": "stream",
     "text": [
      "0\n",
      "1\n",
      "2\n",
      "3\n",
      "4\n",
      "5\n",
      "6\n",
      "7\n",
      "8\n",
      "9\n",
      "10\n",
      "11\n",
      "12\n",
      "13\n",
      "14\n",
      "15\n",
      "16\n",
      "17\n",
      "18\n",
      "19\n"
     ]
    }
   ],
   "source": [
    "house.compute()"
   ]
  },
  {
   "cell_type": "code",
   "execution_count": 183,
   "metadata": {},
   "outputs": [
    {
     "data": {
      "text/plain": [
       "[1019360624821.2606,\n",
       " 7.0716659979556453e+25,\n",
       " 6.3192810086727138e+39,\n",
       " 5.6469454974423461e+53,\n",
       " 5.0461426556788046e+67,\n",
       " 4.5092618147269664e+81,\n",
       " 4.0295020377341065e+95,\n",
       " 3.6007859687975216e+109,\n",
       " 3.2176828480722222e+123,\n",
       " 2.8753397176327325e+137,\n",
       " 2.5694199466394124e+151,\n",
       " 2.2960482970769941e+165,\n",
       " 2.0517618341856846e+179,\n",
       " 1.833466059742836e+193,\n",
       " 1.6383957125136269e+207,\n",
       " 1.4640797393105511e+221,\n",
       " 1.3083099929326893e+235,\n",
       " 1.1691132604659749e+249,\n",
       " 1.0447262676130183e+263,\n",
       " 9.3357334241988366e+276]"
      ]
     },
     "execution_count": 183,
     "metadata": {},
     "output_type": "execute_result"
    }
   ],
   "source": [
    "house.costs()"
   ]
  },
  {
   "cell_type": "code",
   "execution_count": 184,
   "metadata": {},
   "outputs": [
    {
     "data": {
      "text/plain": [
       "[array([[ 0.55039762],\n",
       "        [ 0.45856257],\n",
       "        [ 0.85123928],\n",
       "        [ 0.15884562]]), array([[ 5470215.68577819],\n",
       "        [ 5470215.59394314],\n",
       "        [ 5470215.98661985],\n",
       "        [ 5470215.29422619]]), array([[ -5.17103318e+13],\n",
       "        [ -5.17103318e+13],\n",
       "        [ -5.17103318e+13],\n",
       "        [ -5.17103318e+13]]), array([[  4.88821488e+20],\n",
       "        [  4.88821488e+20],\n",
       "        [  4.88821488e+20],\n",
       "        [  4.88821488e+20]]), array([[ -4.62086470e+27],\n",
       "        [ -4.62086470e+27],\n",
       "        [ -4.62086470e+27],\n",
       "        [ -4.62086470e+27]]), array([[  4.36813666e+34],\n",
       "        [  4.36813666e+34],\n",
       "        [  4.36813666e+34],\n",
       "        [  4.36813666e+34]]), array([[ -4.12923101e+41],\n",
       "        [ -4.12923101e+41],\n",
       "        [ -4.12923101e+41],\n",
       "        [ -4.12923101e+41]]), array([[  3.90339179e+48],\n",
       "        [  3.90339179e+48],\n",
       "        [  3.90339179e+48],\n",
       "        [  3.90339179e+48]]), array([[ -3.68990435e+55],\n",
       "        [ -3.68990435e+55],\n",
       "        [ -3.68990435e+55],\n",
       "        [ -3.68990435e+55]]), array([[  3.48809313e+62],\n",
       "        [  3.48809313e+62],\n",
       "        [  3.48809313e+62],\n",
       "        [  3.48809313e+62]]), array([[ -3.29731954e+69],\n",
       "        [ -3.29731954e+69],\n",
       "        [ -3.29731954e+69],\n",
       "        [ -3.29731954e+69]]), array([[  3.11697989e+76],\n",
       "        [  3.11697989e+76],\n",
       "        [  3.11697989e+76],\n",
       "        [  3.11697989e+76]]), array([[ -2.94650352e+83],\n",
       "        [ -2.94650352e+83],\n",
       "        [ -2.94650352e+83],\n",
       "        [ -2.94650352e+83]]), array([[  2.78535098e+90],\n",
       "        [  2.78535098e+90],\n",
       "        [  2.78535098e+90],\n",
       "        [  2.78535098e+90]]), array([[ -2.63301233e+97],\n",
       "        [ -2.63301233e+97],\n",
       "        [ -2.63301233e+97],\n",
       "        [ -2.63301233e+97]]), array([[  2.48900550e+104],\n",
       "        [  2.48900550e+104],\n",
       "        [  2.48900550e+104],\n",
       "        [  2.48900550e+104]]), array([[ -2.35287481e+111],\n",
       "        [ -2.35287481e+111],\n",
       "        [ -2.35287481e+111],\n",
       "        [ -2.35287481e+111]]), array([[  2.22418949e+118],\n",
       "        [  2.22418949e+118],\n",
       "        [  2.22418949e+118],\n",
       "        [  2.22418949e+118]]), array([[ -2.10254233e+125],\n",
       "        [ -2.10254233e+125],\n",
       "        [ -2.10254233e+125],\n",
       "        [ -2.10254233e+125]]), array([[  1.98754839e+132],\n",
       "        [  1.98754839e+132],\n",
       "        [  1.98754839e+132],\n",
       "        [  1.98754839e+132]]), array([[ -1.87884380e+139],\n",
       "        [ -1.87884380e+139],\n",
       "        [ -1.87884380e+139],\n",
       "        [ -1.87884380e+139]])]"
      ]
     },
     "execution_count": 184,
     "metadata": {},
     "output_type": "execute_result"
    }
   ],
   "source": [
    "house.thetas()"
   ]
  },
  {
   "cell_type": "code",
   "execution_count": 185,
   "metadata": {},
   "outputs": [
    {
     "data": {
      "text/plain": [
       "[array([[  824907.3347493 ,   596748.56468491,  1537568.81988733,\n",
       "           238306.07570233]]),\n",
       " array([[  8.19847482e+12,   7.11864318e+12,   9.88069250e+12,\n",
       "           8.20661938e+12]]),\n",
       " array([[ -7.75007564e+19,  -6.72930335e+19,  -9.34028728e+19,\n",
       "          -7.75777531e+19]]),\n",
       " array([[  7.32620228e+26,   6.36125888e+26,   8.82944078e+26,\n",
       "           7.33348083e+26]]),\n",
       " array([[ -6.92551173e+33,  -6.01334380e+33,  -8.34653391e+33,\n",
       "          -6.93239220e+33]]),\n",
       " array([[  6.54673608e+40,   5.68445716e+40,   7.89003856e+40,\n",
       "           6.55324023e+40]]),\n",
       " array([[ -6.18867672e+47,  -5.37355826e+47,  -7.45851023e+47,\n",
       "          -6.19482515e+47]]),\n",
       " array([[  5.85020064e+54,   5.07966329e+54,   7.05058340e+54,\n",
       "           5.85601279e+54]]),\n",
       " array([[ -5.53023676e+61,  -4.80184227e+61,  -6.66496722e+61,\n",
       "          -5.53573103e+61]]),\n",
       " array([[  5.22777261e+68,   4.53921605e+68,   6.30044147e+68,\n",
       "           5.23296638e+68]]),\n",
       " array([[ -4.94185107e+75,  -4.29095360e+75,  -5.95585266e+75,\n",
       "          -4.94676078e+75]]),\n",
       " array([[  4.67156738e+82,   4.05626931e+82,   5.63011038e+82,\n",
       "           4.67620856e+82]]),\n",
       " array([[ -4.41606626e+89,  -3.83442057e+89,  -5.32218386e+89,\n",
       "          -4.42045360e+89]]),\n",
       " array([[  4.17453921e+96,   3.62470536e+96,   5.03109870e+96,\n",
       "           4.17868660e+96]]),\n",
       " array([[ -3.94622196e+103,  -3.42646006e+103,  -4.75593381e+103,\n",
       "          -3.95014251e+103]]),\n",
       " array([[  3.73039201e+110,   3.23905735e+110,   4.49581845e+110,\n",
       "           3.73409814e+110]]),\n",
       " array([[ -3.52636641e+117,  -3.06190422e+117,  -4.24992953e+117,\n",
       "          -3.52986984e+117]]),\n",
       " array([[  3.33349955e+124,   2.89444009e+124,   4.01748897e+124,\n",
       "           3.33681137e+124]]),\n",
       " array([[ -3.15118111e+131,  -2.73613505e+131,  -3.79776124e+131,\n",
       "          -3.15431180e+131]]),\n",
       " array([[  2.97883418e+138,   2.58648815e+138,   3.59005102e+138,\n",
       "           2.98179364e+138]])]"
      ]
     },
     "execution_count": 185,
     "metadata": {},
     "output_type": "execute_result"
    }
   ],
   "source": [
    "house.hypo()"
   ]
  },
  {
   "cell_type": "code",
   "execution_count": 186,
   "metadata": {},
   "outputs": [
    {
     "data": {
      "text/plain": [
       "{'costs': 9.3357334241988366e+276,\n",
       " 'hypothesis': array([[  2.97883418e+138,   2.58648815e+138,   3.59005102e+138,\n",
       "           2.98179364e+138]]),\n",
       " 'thetas': [array([[ 0.55039762],\n",
       "         [ 0.45856257],\n",
       "         [ 0.85123928],\n",
       "         [ 0.15884562]]), array([[ 5470215.68577819],\n",
       "         [ 5470215.59394314],\n",
       "         [ 5470215.98661985],\n",
       "         [ 5470215.29422619]]), array([[ -5.17103318e+13],\n",
       "         [ -5.17103318e+13],\n",
       "         [ -5.17103318e+13],\n",
       "         [ -5.17103318e+13]]), array([[  4.88821488e+20],\n",
       "         [  4.88821488e+20],\n",
       "         [  4.88821488e+20],\n",
       "         [  4.88821488e+20]]), array([[ -4.62086470e+27],\n",
       "         [ -4.62086470e+27],\n",
       "         [ -4.62086470e+27],\n",
       "         [ -4.62086470e+27]]), array([[  4.36813666e+34],\n",
       "         [  4.36813666e+34],\n",
       "         [  4.36813666e+34],\n",
       "         [  4.36813666e+34]]), array([[ -4.12923101e+41],\n",
       "         [ -4.12923101e+41],\n",
       "         [ -4.12923101e+41],\n",
       "         [ -4.12923101e+41]]), array([[  3.90339179e+48],\n",
       "         [  3.90339179e+48],\n",
       "         [  3.90339179e+48],\n",
       "         [  3.90339179e+48]]), array([[ -3.68990435e+55],\n",
       "         [ -3.68990435e+55],\n",
       "         [ -3.68990435e+55],\n",
       "         [ -3.68990435e+55]]), array([[  3.48809313e+62],\n",
       "         [  3.48809313e+62],\n",
       "         [  3.48809313e+62],\n",
       "         [  3.48809313e+62]]), array([[ -3.29731954e+69],\n",
       "         [ -3.29731954e+69],\n",
       "         [ -3.29731954e+69],\n",
       "         [ -3.29731954e+69]]), array([[  3.11697989e+76],\n",
       "         [  3.11697989e+76],\n",
       "         [  3.11697989e+76],\n",
       "         [  3.11697989e+76]]), array([[ -2.94650352e+83],\n",
       "         [ -2.94650352e+83],\n",
       "         [ -2.94650352e+83],\n",
       "         [ -2.94650352e+83]]), array([[  2.78535098e+90],\n",
       "         [  2.78535098e+90],\n",
       "         [  2.78535098e+90],\n",
       "         [  2.78535098e+90]]), array([[ -2.63301233e+97],\n",
       "         [ -2.63301233e+97],\n",
       "         [ -2.63301233e+97],\n",
       "         [ -2.63301233e+97]]), array([[  2.48900550e+104],\n",
       "         [  2.48900550e+104],\n",
       "         [  2.48900550e+104],\n",
       "         [  2.48900550e+104]]), array([[ -2.35287481e+111],\n",
       "         [ -2.35287481e+111],\n",
       "         [ -2.35287481e+111],\n",
       "         [ -2.35287481e+111]]), array([[  2.22418949e+118],\n",
       "         [  2.22418949e+118],\n",
       "         [  2.22418949e+118],\n",
       "         [  2.22418949e+118]]), array([[ -2.10254233e+125],\n",
       "         [ -2.10254233e+125],\n",
       "         [ -2.10254233e+125],\n",
       "         [ -2.10254233e+125]]), array([[  1.98754839e+132],\n",
       "         [  1.98754839e+132],\n",
       "         [  1.98754839e+132],\n",
       "         [  1.98754839e+132]]), array([[ -1.87884380e+139],\n",
       "         [ -1.87884380e+139],\n",
       "         [ -1.87884380e+139],\n",
       "         [ -1.87884380e+139]])]}"
      ]
     },
     "execution_count": 186,
     "metadata": {},
     "output_type": "execute_result"
    }
   ],
   "source": [
    "house.minimized()"
   ]
  },
  {
   "cell_type": "code",
   "execution_count": null,
   "metadata": {
    "collapsed": true
   },
   "outputs": [],
   "source": []
  },
  {
   "cell_type": "code",
   "execution_count": null,
   "metadata": {
    "collapsed": true
   },
   "outputs": [],
   "source": []
  }
 ],
 "metadata": {
  "kernelspec": {
   "display_name": "Python 3",
   "language": "python",
   "name": "python3"
  },
  "language_info": {
   "codemirror_mode": {
    "name": "ipython",
    "version": 3
   },
   "file_extension": ".py",
   "mimetype": "text/x-python",
   "name": "python",
   "nbconvert_exporter": "python",
   "pygments_lexer": "ipython3",
   "version": "3.6.3"
  }
 },
 "nbformat": 4,
 "nbformat_minor": 1
}
