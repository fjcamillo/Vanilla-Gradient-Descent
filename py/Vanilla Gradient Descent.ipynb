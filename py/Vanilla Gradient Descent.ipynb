{
 "cells": [
  {
   "cell_type": "markdown",
   "metadata": {},
   "source": [
    "# Vanilla Gradient Descent"
   ]
  },
  {
   "cell_type": "markdown",
   "metadata": {},
   "source": [
    "implementation of gradient descent using only numpy\n",
    "\n",
    "Notes:\n",
    "\n",
    "<a href>http://cs229.stanford.edu/notes/cs229-notes1.pdf</a>"
   ]
  },
  {
   "cell_type": "code",
   "execution_count": 1,
   "metadata": {},
   "outputs": [],
   "source": [
    "import numpy as np"
   ]
  },
  {
   "cell_type": "code",
   "execution_count": 2,
   "metadata": {
    "collapsed": true
   },
   "outputs": [],
   "source": [
    "import functools"
   ]
  },
  {
   "cell_type": "code",
   "execution_count": 3,
   "metadata": {},
   "outputs": [
    {
     "name": "stderr",
     "output_type": "stream",
     "text": [
      "/home/fjcamillo/anaconda3/envs/tensorflow/lib/python3.6/site-packages/matplotlib/font_manager.py:279: UserWarning: Matplotlib is building the font cache using fc-list. This may take a moment.\n",
      "  'Matplotlib is building the font cache using fc-list. '\n"
     ]
    }
   ],
   "source": [
    "%matplotlib inline\n",
    "import matplotlib.pyplot as plt"
   ]
  },
  {
   "cell_type": "code",
   "execution_count": 4,
   "metadata": {
    "collapsed": true
   },
   "outputs": [],
   "source": [
    "dataset = {\n",
    "    'size_in_feet': [\n",
    "        2104,\n",
    "        1416,\n",
    "        1534,\n",
    "        852,\n",
    "        2506\n",
    "    ],\n",
    "    'price':[\n",
    "        460,\n",
    "        232,\n",
    "        315,\n",
    "        178,\n",
    "        500\n",
    "    ]\n",
    "}"
   ]
  },
  {
   "cell_type": "code",
   "execution_count": null,
   "metadata": {
    "collapsed": true
   },
   "outputs": [],
   "source": [
    "class gradient_descent:\n",
    "    \n",
    "    def __init__(self):\n",
    "        self.init_theta_zero = 0.1\n",
    "        self.init_theta_one = 0.1\n",
    "        self.epochs = 5000\n",
    "        self.learning_rate = 5e-15\n",
    "        self.debug = False\n",
    "    \n",
    "    def model(x1, t0=0, t1=0):\n",
    "        return np.array(np.add(t0, np.multiply(t1, x1)))\n",
    "    \n",
    "    def derive(t, learning_rate, hypo, y, shape, x=1):\n",
    "        summation = np.sum(np.multiply(np.subtract(hypo, y), x))\n",
    "        var = (learning_rate*summation)/shape\n",
    "        out = t-var\n",
    "        return out\n",
    "        \n",
    "    \n",
    "    def cost_function(hypo, y, shape):\n",
    "        summation = np.sum(np.square(np.subtract(hypo, y)))\n",
    "        out = summation/(2*shape)\n",
    "        return out\n",
    "    \n",
    "    def compute():\n",
    "        for i in range(epochs):\n",
    "            print(i)\n",
    "            hypothesis = lm(x, **hyperparameter)\n",
    "\n",
    "            hyperdata['hypothesis'].append(hypothesis)\n",
    "\n",
    "            error = costfunction(hypothesis, y, x.shape[0])\n",
    "            hyperdata['error'].append(error)\n",
    "\n",
    "            tzero = derive(hyperdata['t0'][-1], learning_rate, hypothesis, y, x.shape[0])\n",
    "            tone = derive(hyperdata['t1'][-1], learning_rate, hypothesis, y, x.shape[0], x)\n",
    "\n",
    "            #Recording Thetas\n",
    "            hyperdata['t0'].append(tzero)\n",
    "            hyperdata['t1'].append(tone)\n",
    "\n",
    "            #Updating Theta Values for next epoch run\n",
    "            hyperparameter['t0'] = hyperdata['t0'][-1]\n",
    "            hyperparameter['t1'] = hyperdata['t1'][-1]\n",
    "        "
   ]
  },
  {
   "cell_type": "code",
   "execution_count": 8,
   "metadata": {
    "collapsed": true
   },
   "outputs": [],
   "source": [
    "#Hyper Parameters\n",
    "init_theta_zero = 0.1\n",
    "init_theta_one = 0.1\n",
    "epochs = 5000\n",
    "learning_rate = 5e-15\n",
    "\n",
    "#All Hyper Parameter Value Stored Here\n",
    "hyperdata = {\n",
    "    't0':[init_theta_zero],\n",
    "    't1':[init_theta_one],\n",
    "    'error':[],\n",
    "    'hypothesis':[]\n",
    "}\n",
    "\n",
    "#Hyperparamete\n",
    "\n",
    "for i in range(epochs):\n",
    "    print(i)\n",
    "    hypothesis = lm(x, **hyperparameter)\n",
    "    \n",
    "    hyperdata['hypothesis'].append(hypothesis)\n",
    "    \n",
    "    error = costfunction(hypothesis, y, x.shape[0])\n",
    "    hyperdata['error'].append(error)\n",
    "    \n",
    "    tzero = derive(hyperdata['t0'][-1], learning_rate, hypothesis, y, x.shape[0])\n",
    "    tone = derive(hyperdata['t1'][-1], learning_rate, hypothesis, y, x.shape[0], x)\n",
    "    \n",
    "    #Recording Thetas\n",
    "    hyperdata['t0'].append(tzero)\n",
    "    hyperdata['t1'].append(tone)\n",
    "    \n",
    "    #Updating Theta Values for next epoch run\n",
    "    hyperparameter['t0'] = hyperdata['t0'][-1]\n",
    "    hyperparameter['t1'] = hyperdata['t1'][-1]"
   ]
  },
  {
   "cell_type": "code",
   "execution_count": null,
   "metadata": {
    "collapsed": true
   },
   "outputs": [],
   "source": []
  }
 ],
 "metadata": {
  "kernelspec": {
   "display_name": "Python 3",
   "language": "python",
   "name": "python3"
  },
  "language_info": {
   "codemirror_mode": {
    "name": "ipython",
    "version": 3
   },
   "file_extension": ".py",
   "mimetype": "text/x-python",
   "name": "python",
   "nbconvert_exporter": "python",
   "pygments_lexer": "ipython3",
   "version": "3.6.3"
  }
 },
 "nbformat": 4,
 "nbformat_minor": 1
}
