{
 "cells": [
  {
   "cell_type": "markdown",
   "metadata": {},
   "source": [
    "# Vanilla Gradient Descent"
   ]
  },
  {
   "cell_type": "markdown",
   "metadata": {},
   "source": [
    "implementation of gradient descent using only numpy\n",
    "\n",
    "Notes:\n",
    "\n",
    "<a href>http://cs229.stanford.edu/notes/cs229-notes1.pdf</a>"
   ]
  },
  {
   "cell_type": "code",
   "execution_count": 2,
   "metadata": {
    "collapsed": true
   },
   "outputs": [],
   "source": [
    "import numpy as np"
   ]
  },
  {
   "cell_type": "code",
   "execution_count": 17,
   "metadata": {
    "collapsed": true
   },
   "outputs": [],
   "source": [
    "from functools import reduce"
   ]
  },
  {
   "cell_type": "code",
   "execution_count": 3,
   "metadata": {},
   "outputs": [
    {
     "name": "stderr",
     "output_type": "stream",
     "text": [
      "/home/fjcamillo/anaconda3/envs/tensorflow/lib/python3.6/site-packages/matplotlib/font_manager.py:279: UserWarning: Matplotlib is building the font cache using fc-list. This may take a moment.\n",
      "  'Matplotlib is building the font cache using fc-list. '\n"
     ]
    }
   ],
   "source": [
    "%matplotlib inline\n",
    "import matplotlib.pyplot as plt"
   ]
  },
  {
   "cell_type": "code",
   "execution_count": 4,
   "metadata": {
    "collapsed": true
   },
   "outputs": [],
   "source": [
    "dataset = {\n",
    "    'size_in_feet': [\n",
    "        2104,\n",
    "        1416,\n",
    "        1534,\n",
    "        852,\n",
    "        2506\n",
    "    ],\n",
    "    'price':[\n",
    "        460,\n",
    "        232,\n",
    "        315,\n",
    "        178,\n",
    "        500\n",
    "    ]\n",
    "}"
   ]
  },
  {
   "cell_type": "code",
   "execution_count": 22,
   "metadata": {},
   "outputs": [
    {
     "data": {
      "text/plain": [
       "(1, 3)"
      ]
     },
     "execution_count": 22,
     "metadata": {},
     "output_type": "execute_result"
    }
   ],
   "source": [
    "a = np.array([[1, 2, 3]])\n",
    "a.shape"
   ]
  },
  {
   "cell_type": "code",
   "execution_count": 12,
   "metadata": {},
   "outputs": [
    {
     "data": {
      "text/plain": [
       "array([[1],\n",
       "       [2],\n",
       "       [3]])"
      ]
     },
     "execution_count": 12,
     "metadata": {},
     "output_type": "execute_result"
    }
   ],
   "source": [
    "a.transpose()"
   ]
  },
  {
   "cell_type": "code",
   "execution_count": 15,
   "metadata": {},
   "outputs": [
    {
     "data": {
      "text/plain": [
       "(3, 1)"
      ]
     },
     "execution_count": 15,
     "metadata": {},
     "output_type": "execute_result"
    }
   ],
   "source": [
    "a.transpose().shape"
   ]
  },
  {
   "cell_type": "code",
   "execution_count": 21,
   "metadata": {},
   "outputs": [
    {
     "data": {
      "text/plain": [
       "3"
      ]
     },
     "execution_count": 21,
     "metadata": {},
     "output_type": "execute_result"
    }
   ],
   "source": [
    "reduce(lambda x,y: x+y, [1,1,1])"
   ]
  },
  {
   "cell_type": "code",
   "execution_count": null,
   "metadata": {
    "collapsed": true
   },
   "outputs": [],
   "source": [
    "class gradient_descent:\n",
    "    \n",
    "    def __init__(self, theta, x, y, epochs, rate, debug):\n",
    "        self.theta = np.array(theta)\n",
    "        self.x = x\n",
    "        self.y = y\n",
    "        self.epochs = epochs\n",
    "        self.learning_rate = rate\n",
    "        self.debug = debug\n",
    "        self.model_thetas = []\n",
    "        self.model_costs = []\n",
    "        self.model_hypothesis = []\n",
    "        \n",
    "        \n",
    "    def thetas(self):\n",
    "        return self.model_thetas\n",
    "    \n",
    "    def costs(self):\n",
    "        return self.model_costs\n",
    "    \n",
    "    def hypo(self):\n",
    "        return self.model_hypothesis\n",
    "    \n",
    "    def compute(self)\n",
    "        hypothesis = self.model_thetas[-1].transpose()*self.x\n",
    "        new_cost = np.sum(np.square(np.subtract(hypothesis, self.y)))/self.x.shape[1]\n",
    "        MLE = np.multiply()\n",
    "        new_theta = self.model_thetas[-1] + np.multiply(self.learning_rate,   )\n",
    "        \n",
    "        self.model_hypothesis.append(hypothesis)\n",
    "        self.model_cost.append(new_cost)\n",
    "        \n",
    "    \n",
    "    def derive(self, t, hypo, y, shape, x=1):\n",
    "        summation = np.sum(np.multiply(np.subtract(hypo, y), x))\n",
    "        var = (self.learning_rate*summation)/shape\n",
    "        out = t-var\n",
    "        return out\n",
    "        \n",
    "    \n",
    "    def cost_function(self, hypo, y, shape):\n",
    "        summation = np.sum(np.square(np.subtract(hypo, y)))\n",
    "        out = summation/(2*shape)\n",
    "        return out\n",
    "    \n",
    "    def compute(self):\n",
    "        for i in range(self.epochs):\n",
    "            print(i)\n",
    "            hypothesis = self.lm(x, **self.hyperparameter)\n",
    "\n",
    "            self.hyperdata['hypothesis'].append(hypothesis)\n",
    "\n",
    "            error = costfunction(hypothesis, y, x.shape[0])\n",
    "            self.hyperdata['error'].append(error)\n",
    "\n",
    "            tzero = self.derive(hyperdata['t0'][-1], hypothesis, y, x.shape[0])\n",
    "            tone = self.derive(hyperdata['t1'][-1], hypothesis, y, x.shape[0], x)\n",
    "\n",
    "            #Recording Thetas\n",
    "            self.hyperdata['t0'].append(tzero)\n",
    "            self.hyperdata['t1'].append(tone)\n",
    "\n",
    "            #Updating Theta Values for next epoch run\n",
    "            self.hyperparameter['t0'] = hyperdata['t0'][-1]\n",
    "            self.hyperparameter['t1'] = hyperdata['t1'][-1]\n",
    "        "
   ]
  },
  {
   "cell_type": "code",
   "execution_count": null,
   "metadata": {
    "collapsed": true
   },
   "outputs": [],
   "source": []
  }
 ],
 "metadata": {
  "kernelspec": {
   "display_name": "Python 3",
   "language": "python",
   "name": "python3"
  },
  "language_info": {
   "codemirror_mode": {
    "name": "ipython",
    "version": 3
   },
   "file_extension": ".py",
   "mimetype": "text/x-python",
   "name": "python",
   "nbconvert_exporter": "python",
   "pygments_lexer": "ipython3",
   "version": "3.6.1"
  }
 },
 "nbformat": 4,
 "nbformat_minor": 1
}
