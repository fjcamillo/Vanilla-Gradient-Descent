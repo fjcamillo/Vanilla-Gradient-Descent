{
 "cells": [
  {
   "cell_type": "markdown",
   "metadata": {},
   "source": [
    "# Vanilla Gradient Descent"
   ]
  },
  {
   "cell_type": "markdown",
   "metadata": {},
   "source": [
    "implementation of gradient descent using only numpy\n",
    "\n",
    "Notes:\n",
    "\n",
    "<a href>http://cs229.stanford.edu/notes/cs229-notes1.pdf</a>"
   ]
  },
  {
   "cell_type": "code",
   "execution_count": 1,
   "metadata": {
    "collapsed": true
   },
   "outputs": [],
   "source": [
    "import numpy as np\n",
    "import asyncio"
   ]
  },
  {
   "cell_type": "code",
   "execution_count": 2,
   "metadata": {
    "collapsed": true
   },
   "outputs": [],
   "source": [
    "import functools"
   ]
  },
  {
   "cell_type": "code",
   "execution_count": 3,
   "metadata": {},
   "outputs": [],
   "source": [
    "%matplotlib inline\n",
    "import matplotlib.pyplot"
   ]
  },
  {
   "cell_type": "code",
   "execution_count": 4,
   "metadata": {
    "collapsed": true
   },
   "outputs": [],
   "source": [
    "dataset = {\n",
    "    'size_in_feet': [\n",
    "        2104,\n",
    "        1416,\n",
    "        1534,\n",
    "        852\n",
    "    ],\n",
    "    'price':[\n",
    "        460,\n",
    "        232,\n",
    "        315,\n",
    "        178\n",
    "    ]\n",
    "}"
   ]
  },
  {
   "cell_type": "code",
   "execution_count": 5,
   "metadata": {
    "collapsed": true
   },
   "outputs": [],
   "source": [
    "#linear function => h(x) = Theta\n",
    "async def linearfunction(t0, t1, x):\n",
    "    linear = await np.add(np.multiply(t1, x), t0)\n",
    "    return linear"
   ]
  },
  {
   "cell_type": "code",
   "execution_count": 6,
   "metadata": {},
   "outputs": [],
   "source": [
    "#Gradient Descent\n",
    "# *params:\n",
    "# theta_zero => cost variable to be minimized\n",
    "# theta_one => cost variable to be minimized\n",
    "# learning_rate => learning rate of the gradient descent\n",
    "# xArray => Array that holds the x dataset\n",
    "# yArray => Array that holds the y dataset\n",
    "\n",
    "def gradientdescent(learning_rate, xArray, yArray, theta_zero, theta_one):\n",
    "    if len(xArray)!=len(yArray): return \"The Arrays are not equal\"     \n",
    "    \n",
    "    mapped_t0 = list(map(lambda x,y: np.subtract(linearfunction(theta_zero, theta_one, x),y) , xArray, yArray))\n",
    "    linear_regression_t0 = functools.reduce(lambda x,y: x+y, mapped_t0)\n",
    "                      \n",
    "    derLRM_t0= linear_regression_t0/len(xArray)\n",
    "        \n",
    "    gradient_t0 = np.subtract(theta_zero, np.multiply(learning_rate, derLRM_t0))\n",
    "\n",
    "    mapped_t1 = list(map(lambda x,y: np.multiply(np.subtract(linearfunction(theta_zero, theta_one, x),y), x) , xArray, yArray))\n",
    "    linear_regression_t1 = functools.reduce(lambda x,y: x+y, mapped_t1)\n",
    "                      \n",
    "    derLRM_t1 = linear_regression_t1/len(xArray)\n",
    "        \n",
    "    gradient_t1 = np.subtract(theta_zero, np.multiply(learning_rate, derLRM_t1))\n",
    "    \n",
    "    return [gradient_t0, gradient_t1]\n",
    "                      "
   ]
  },
  {
   "cell_type": "code",
   "execution_count": 7,
   "metadata": {},
   "outputs": [],
   "source": [
    "gradient_descent_values = {\n",
    "    'gradients':{\n",
    "        'theta_zero': [0],\n",
    "        'theta_one': [0]\n",
    "    },\n",
    "    'linear_regression': []\n",
    "}"
   ]
  },
  {
   "cell_type": "code",
   "execution_count": 8,
   "metadata": {
    "collapsed": true
   },
   "outputs": [],
   "source": [
    "learning_rate = 0.01"
   ]
  },
  {
   "cell_type": "code",
   "execution_count": 11,
   "metadata": {},
   "outputs": [
    {
     "ename": "TypeError",
     "evalue": "'coroutine' object is not subscriptable",
     "output_type": "error",
     "traceback": [
      "\u001b[0;31m---------------------------------------------------------------------------\u001b[0m",
      "\u001b[0;31mTypeError\u001b[0m                                 Traceback (most recent call last)",
      "\u001b[0;32m<ipython-input-11-0155778a1a14>\u001b[0m in \u001b[0;36m<module>\u001b[0;34m()\u001b[0m\n\u001b[1;32m      3\u001b[0m     \u001b[0mt_one\u001b[0m \u001b[0;34m=\u001b[0m \u001b[0mgradient_descent_values\u001b[0m\u001b[0;34m[\u001b[0m\u001b[0;34m'gradients'\u001b[0m\u001b[0;34m]\u001b[0m\u001b[0;34m[\u001b[0m\u001b[0;34m'theta_one'\u001b[0m\u001b[0;34m]\u001b[0m\u001b[0;34m[\u001b[0m\u001b[0;34m-\u001b[0m\u001b[0;36m1\u001b[0m\u001b[0;34m]\u001b[0m\u001b[0;34m\u001b[0m\u001b[0m\n\u001b[1;32m      4\u001b[0m     \u001b[0mBGD\u001b[0m \u001b[0;34m=\u001b[0m \u001b[0mgradientdescent\u001b[0m\u001b[0;34m(\u001b[0m\u001b[0mlearning_rate\u001b[0m\u001b[0;34m,\u001b[0m \u001b[0mdataset\u001b[0m\u001b[0;34m[\u001b[0m\u001b[0;34m'size_in_feet'\u001b[0m\u001b[0;34m]\u001b[0m\u001b[0;34m,\u001b[0m \u001b[0mdataset\u001b[0m\u001b[0;34m[\u001b[0m\u001b[0;34m'price'\u001b[0m\u001b[0;34m]\u001b[0m\u001b[0;34m,\u001b[0m \u001b[0mt_zero\u001b[0m\u001b[0;34m,\u001b[0m \u001b[0mt_one\u001b[0m\u001b[0;34m)\u001b[0m\u001b[0;34m\u001b[0m\u001b[0m\n\u001b[0;32m----> 5\u001b[0;31m     \u001b[0mgradient_descent_values\u001b[0m\u001b[0;34m[\u001b[0m\u001b[0;34m'gradients'\u001b[0m\u001b[0;34m]\u001b[0m\u001b[0;34m[\u001b[0m\u001b[0;34m'theta_zero'\u001b[0m\u001b[0;34m]\u001b[0m\u001b[0;34m.\u001b[0m\u001b[0mappend\u001b[0m\u001b[0;34m(\u001b[0m\u001b[0mBGD\u001b[0m\u001b[0;34m[\u001b[0m\u001b[0;36m0\u001b[0m\u001b[0;34m]\u001b[0m\u001b[0;34m)\u001b[0m\u001b[0;34m\u001b[0m\u001b[0m\n\u001b[0m\u001b[1;32m      6\u001b[0m     \u001b[0mgradient_descent_values\u001b[0m\u001b[0;34m[\u001b[0m\u001b[0;34m'gradients'\u001b[0m\u001b[0;34m]\u001b[0m\u001b[0;34m[\u001b[0m\u001b[0;34m'theta_one'\u001b[0m\u001b[0;34m]\u001b[0m\u001b[0;34m.\u001b[0m\u001b[0mappend\u001b[0m\u001b[0;34m(\u001b[0m\u001b[0mBGD\u001b[0m\u001b[0;34m[\u001b[0m\u001b[0;36m1\u001b[0m\u001b[0;34m]\u001b[0m\u001b[0;34m)\u001b[0m\u001b[0;34m\u001b[0m\u001b[0m\n",
      "\u001b[0;31mTypeError\u001b[0m: 'coroutine' object is not subscriptable"
     ]
    }
   ],
   "source": [
    "for i in range(10):\n",
    "    t_zero = gradient_descent_values['gradients']['theta_zero'][-1]\n",
    "    t_one = gradient_descent_values['gradients']['theta_one'][-1]\n",
    "    BGD = gradientdescent(learning_rate, dataset['size_in_feet'], dataset['price'], t_zero, t_one)\n",
    "    gradient_descent_values['gradients']['theta_zero'].append(BGD[0])\n",
    "    gradient_descent_values['gradients']['theta_one'].append(BGD[1])"
   ]
  },
  {
   "cell_type": "code",
   "execution_count": null,
   "metadata": {
    "collapsed": true
   },
   "outputs": [],
   "source": []
  }
 ],
 "metadata": {
  "kernelspec": {
   "display_name": "Python 3",
   "language": "python",
   "name": "python3"
  },
  "language_info": {
   "codemirror_mode": {
    "name": "ipython",
    "version": 3
   },
   "file_extension": ".py",
   "mimetype": "text/x-python",
   "name": "python",
   "nbconvert_exporter": "python",
   "pygments_lexer": "ipython3",
   "version": "3.5.3"
  }
 },
 "nbformat": 4,
 "nbformat_minor": 1
}
