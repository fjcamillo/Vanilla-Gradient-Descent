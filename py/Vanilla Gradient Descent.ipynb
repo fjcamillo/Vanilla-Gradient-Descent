{
 "cells": [
  {
   "cell_type": "markdown",
   "metadata": {},
   "source": [
    "# Vanilla Gradient Descent"
   ]
  },
  {
   "cell_type": "markdown",
   "metadata": {},
   "source": [
    "implementation of gradient descent using only numpy\n",
    "\n",
    "Notes:\n",
    "\n",
    "<a href>http://cs229.stanford.edu/notes/cs229-notes1.pdf</a>"
   ]
  },
  {
   "cell_type": "code",
   "execution_count": 1,
   "metadata": {
    "collapsed": true
   },
   "outputs": [],
   "source": [
    "import numpy as np\n",
    "from functools import reduce\n",
    "%matplotlib inline\n",
    "import matplotlib.pyplot as plt\n",
    "import pandas as pd"
   ]
  },
  {
   "cell_type": "code",
   "execution_count": 9,
   "metadata": {
    "collapsed": true
   },
   "outputs": [],
   "source": [
    "data = pd.read_csv('banks.csv')"
   ]
  },
  {
   "cell_type": "code",
   "execution_count": 10,
   "metadata": {},
   "outputs": [],
   "source": [
    "data = data.drop(['Financial Institution Number', 'Insurance Fund','Institution Name', 'Institution Type', 'Headquarters', 'Failure Date', 'Certificate Number', 'Transaction Type', 'Estimated Loss (2015)'], axis=1)\n",
    "data.drop(['Charter Type',], axis=1, inplace=True)\n",
    "data = data[data['Total Assets'] < 2000263.0]\n",
    "data = data[data['Total Assets'] > 1000000]\n",
    "data = data[data['Total Deposits'] < 2000263.0]\n",
    "data = data[data['Total Deposits'] > 1000000]"
   ]
  },
  {
   "cell_type": "code",
   "execution_count": 15,
   "metadata": {},
   "outputs": [
    {
     "data": {
      "text/plain": [
       "Index(['Total Deposits', 'Total Assets'], dtype='object')"
      ]
     },
     "execution_count": 15,
     "metadata": {},
     "output_type": "execute_result"
    }
   ],
   "source": [
    "data.columns"
   ]
  },
  {
   "cell_type": "code",
   "execution_count": null,
   "metadata": {
    "collapsed": true
   },
   "outputs": [],
   "source": []
  },
  {
   "cell_type": "code",
   "execution_count": null,
   "metadata": {
    "collapsed": true
   },
   "outputs": [],
   "source": []
  },
  {
   "cell_type": "code",
   "execution_count": 45,
   "metadata": {},
   "outputs": [],
   "source": [
    "class gradient_descent:\n",
    "    \n",
    "    def __init__(self, x, y, epochs, rate, debug=False):\n",
    "        self.x = np.array([x])\n",
    "        self.y = np.array([y])\n",
    "        self.epochs = epochs\n",
    "        self.learning_rate = rate\n",
    "        self.debug = debug\n",
    "        self.model_thetas = [np.random.random(size=[self.x.shape[1],1])]\n",
    "        self.model_costs = []\n",
    "        self.model_hypothesis = []\n",
    "        \n",
    "    def set_thetas(self, theta):\n",
    "        self.model_thetas = theta\n",
    "        \n",
    "    def thetas(self):\n",
    "        return self.model_thetas\n",
    "    \n",
    "    def costs(self):\n",
    "        return self.model_costs\n",
    "    \n",
    "    def hypo(self):\n",
    "        return self.model_hypothesis\n",
    "    \n",
    "    def minimized(self):\n",
    "        output = {\n",
    "            'thetas': self.model_thetas[-1],\n",
    "            'costs': self.model_costs[-1],\n",
    "            'hypothesis': self.model_hypothesis[-1]\n",
    "        }\n",
    "        return output\n",
    "    \n",
    "    def compute(self):\n",
    "        for i in range(self.epochs):\n",
    "            print(i)\n",
    "#             print(self.model_thetas)\n",
    "            print('LAST',self.model_thetas)\n",
    "            if self.debug:\n",
    "                print(self.model_thetas[-1].shape)\n",
    "                print(self.x.shape)\n",
    "            hypothesis = np.multiply(self.model_thetas[-1].reshape(1,4).transpose(),self.x)\n",
    "            new_cost = np.divide(np.sum(np.square(np.subtract(hypothesis, self.y))),self.x.shape[1])\n",
    "            if self.debug:\n",
    "                print('HYPO',hypothesis)\n",
    "                print('HYPO',hypothesis.shape)\n",
    "                print('y', self.y)\n",
    "                print('SUB',np.subtract(self.y, hypothesis))\n",
    "            MLE = np.subtract(self.y, hypothesis).dot(self.x.reshape(self.y.shape[1],1))[0]\n",
    "#             print('MLE', MLE)\n",
    "            new_theta = np.add(self.model_thetas[-1],np.multiply(self.learning_rate,  MLE))\n",
    "#             print('NEW THETA', new_theta)\n",
    "            self.model_hypothesis.append(hypothesis)\n",
    "            self.model_costs.append(new_cost)\n",
    "            self.model_thetas.append(np.array([new_theta]))"
   ]
  },
  {
   "cell_type": "markdown",
   "metadata": {},
   "source": [
    "### Use the class"
   ]
  },
  {
   "cell_type": "code",
   "execution_count": 46,
   "metadata": {},
   "outputs": [],
   "source": [
    "house = gradient_descent(x=data['Total Deposits'][:4], y=data['Total Assets'][:4], epochs=2, rate=1, debug=False)"
   ]
  },
  {
   "cell_type": "code",
   "execution_count": 47,
   "metadata": {},
   "outputs": [
    {
     "name": "stdout",
     "output_type": "stream",
     "text": [
      "0\n",
      "LAST [array([[ 0.24654209],\n",
      "       [ 0.22201814],\n",
      "       [ 0.38047021],\n",
      "       [ 0.18513079]])]\n",
      "1\n",
      "LAST [array([[ 0.24654209],\n",
      "       [ 0.22201814],\n",
      "       [ 0.38047021],\n",
      "       [ 0.18513079]]), array([[[  8.28732090e+12],\n",
      "        [  8.28732090e+12],\n",
      "        [  8.28732090e+12],\n",
      "        [  8.28732090e+12]]])]\n"
     ]
    }
   ],
   "source": [
    "house.compute()"
   ]
  },
  {
   "cell_type": "code",
   "execution_count": null,
   "metadata": {
    "collapsed": true
   },
   "outputs": [],
   "source": []
  },
  {
   "cell_type": "code",
   "execution_count": null,
   "metadata": {
    "collapsed": true
   },
   "outputs": [],
   "source": []
  }
 ],
 "metadata": {
  "kernelspec": {
   "display_name": "Python 3",
   "language": "python",
   "name": "python3"
  },
  "language_info": {
   "codemirror_mode": {
    "name": "ipython",
    "version": 3
   },
   "file_extension": ".py",
   "mimetype": "text/x-python",
   "name": "python",
   "nbconvert_exporter": "python",
   "pygments_lexer": "ipython3",
   "version": "3.6.3"
  }
 },
 "nbformat": 4,
 "nbformat_minor": 1
}
