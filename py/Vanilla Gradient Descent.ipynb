{
 "cells": [
  {
   "cell_type": "markdown",
   "metadata": {},
   "source": [
    "# Vanilla Gradient Descent"
   ]
  },
  {
   "cell_type": "markdown",
   "metadata": {},
   "source": [
    "implementation of gradient descent using only numpy\n",
    "\n",
    "Notes:\n",
    "\n",
    "<a href>http://cs229.stanford.edu/notes/cs229-notes1.pdf</a>"
   ]
  },
  {
   "cell_type": "code",
   "execution_count": 1,
   "metadata": {
    "collapsed": true
   },
   "outputs": [],
   "source": [
    "import numpy as np\n",
    "import asyncio"
   ]
  },
  {
   "cell_type": "code",
   "execution_count": 2,
   "metadata": {
    "collapsed": true
   },
   "outputs": [],
   "source": [
    "import functools"
   ]
  },
  {
   "cell_type": "code",
   "execution_count": 3,
   "metadata": {
    "collapsed": true
   },
   "outputs": [],
   "source": [
    "%matplotlib inline\n",
    "import matplotlib.pyplot as plt"
   ]
  },
  {
   "cell_type": "code",
   "execution_count": 4,
   "metadata": {
    "collapsed": true
   },
   "outputs": [],
   "source": [
    "dataset = {\n",
    "    'size_in_feet': [\n",
    "        2104,\n",
    "        1416,\n",
    "        1534,\n",
    "        852,\n",
    "        2506\n",
    "    ],\n",
    "    'price':[\n",
    "        460,\n",
    "        232,\n",
    "        315,\n",
    "        178,\n",
    "        500\n",
    "    ]\n",
    "}"
   ]
  },
  {
   "cell_type": "code",
   "execution_count": 5,
   "metadata": {
    "collapsed": true
   },
   "outputs": [],
   "source": [
    "#linear function => h(x) = Theta\n",
    "def linearfunction(t0, t1, x):\n",
    "    linear = np.add(np.multiply(t1, x), t0)\n",
    "    return linear"
   ]
  },
  {
   "cell_type": "code",
   "execution_count": 6,
   "metadata": {
    "collapsed": true
   },
   "outputs": [],
   "source": [
    "def LRM(t0, t1, xArray, yArray):\n",
    "    mapped_LRM = list(map(lambda x,y: np.square(np.subtract(linearfunction(t0, t1, x),y)) , xArray, yArray))\n",
    "    linear_regression_LRM = functools.reduce(lambda x,y: x+y, mapped_LRM)\n",
    "    regression = np.divide(linear_regression_LRM, np.multiply(len(xArray), 2))\n",
    "    \n",
    "    return regression"
   ]
  },
  {
   "cell_type": "code",
   "execution_count": 7,
   "metadata": {
    "collapsed": true
   },
   "outputs": [],
   "source": [
    "#Gradient Descent\n",
    "# *params:\n",
    "# theta_zero => cost variable to be minimized\n",
    "# theta_one => cost variable to be minimized\n",
    "# learning_rate => learning rate of the gradient descent\n",
    "# xArray => Array that holds the x dataset\n",
    "# yArray => Array that holds the y dataset\n",
    "\n",
    "def gradientdescent(learning_rate, xArray, yArray, theta_zero, theta_one):\n",
    "    if len(xArray)!=len(yArray): return \"The Arrays are not equal\"     \n",
    "    \n",
    "    mapped_t0 = list(map(lambda x,y: np.subtract(linearfunction(theta_zero, theta_one, x),y) , xArray, yArray))\n",
    "    linear_regression_t0 = functools.reduce(lambda x,y: x+y, mapped_t0)\n",
    "                      \n",
    "    derLRM_t0= np.divide(linear_regression_t0, len(xArray))\n",
    "#     derLRM_t0 = linear_regression_t0\n",
    "        \n",
    "    gradient_t0 = np.subtract(theta_zero, np.multiply(learning_rate, derLRM_t0))\n",
    "\n",
    "    mapped_t1 = list(map(lambda x,y: np.multiply(np.subtract(linearfunction(theta_zero, theta_one, x),y), x) , xArray, yArray))\n",
    "    linear_regression_t1 = functools.reduce(lambda x,y: x+y, mapped_t1)\n",
    "                      \n",
    "    derLRM_t1 = np.divide(linear_regression_t1, len(xArray))\n",
    "#     derLRM_t1 = linear_regression_t1\n",
    "        \n",
    "    gradient_t1 = np.subtract(theta_one, np.multiply(learning_rate, derLRM_t1))\n",
    "    \n",
    "    return [gradient_t0, gradient_t1]\n",
    "                      "
   ]
  },
  {
   "cell_type": "code",
   "execution_count": 12,
   "metadata": {
    "collapsed": true
   },
   "outputs": [],
   "source": [
    "gradient_descent_values = {\n",
    "    'gradients':{\n",
    "        'theta_zero': [0],\n",
    "        'theta_one': [0]\n",
    "    },\n",
    "    'linear_regression': []\n",
    "}"
   ]
  },
  {
   "cell_type": "code",
   "execution_count": 13,
   "metadata": {
    "collapsed": true
   },
   "outputs": [],
   "source": [
    "learning_rate = 0.0001"
   ]
  },
  {
   "cell_type": "code",
   "execution_count": 14,
   "metadata": {},
   "outputs": [
    {
     "name": "stderr",
     "output_type": "stream",
     "text": [
      "/home/fjcamillo/anaconda2/envs/datascience/lib/python3.5/site-packages/ipykernel_launcher.py:2: RuntimeWarning: overflow encountered in square\n",
      "  \n"
     ]
    }
   ],
   "source": [
    "for i in range(100):\n",
    "    t_zero = gradient_descent_values['gradients']['theta_zero'][-1]\n",
    "    t_one = gradient_descent_values['gradients']['theta_one'][-1]\n",
    "    \n",
    "    model = LRM(t_zero, t_one, dataset['size_in_feet'], dataset['price'])\n",
    "    \n",
    "    BGD = gradientdescent(learning_rate, dataset['size_in_feet'], dataset['price'], t_zero, t_one)\n",
    "    \n",
    "    gradient_descent_values['gradients']['theta_zero'].append(BGD[0])\n",
    "    gradient_descent_values['gradients']['theta_one'].append(BGD[1])\n",
    "    gradient_descent_values['linear_regression'].append(model)\n",
    "    "
   ]
  },
  {
   "cell_type": "code",
   "execution_count": 15,
   "metadata": {},
   "outputs": [
    {
     "data": {
      "text/plain": [
       "{'gradients': {'theta_one': [0,\n",
       "   63.684359999999998,\n",
       "   -19985.390766897599,\n",
       "   6291853.4061723547,\n",
       "   -1980797762.7557039,\n",
       "   623593661549.03052,\n",
       "   -196319413317232.97,\n",
       "   61805169650854048.0,\n",
       "   -1.9457469493341934e+19,\n",
       "   6.1255898369514547e+21,\n",
       "   -1.9284548210856878e+24,\n",
       "   6.071150853971395e+26,\n",
       "   -1.9113163704258662e+29,\n",
       "   6.0171956779302244e+31,\n",
       "   -1.8943302316002691e+34,\n",
       "   5.9637200091672715e+36,\n",
       "   -1.8774950509920913e+39,\n",
       "   5.9107195862335565e+41,\n",
       "   -1.8608094870143094e+44,\n",
       "   5.8581901855521995e+46,\n",
       "   -1.8442722100027755e+49,\n",
       "   5.8061276210818473e+51,\n",
       "   -1.8278819021102537e+54,\n",
       "   5.7545277439830837e+56,\n",
       "   -1.8116372572014035e+59,\n",
       "   5.7033864422878199e+61,\n",
       "   -1.7955369807486936e+64,\n",
       "   5.6526996405716071e+66,\n",
       "   -1.779579789729242e+69,\n",
       "   5.6024632996288691e+71,\n",
       "   -1.763764412522573e+74,\n",
       "   5.5526734161510234e+76,\n",
       "   -1.7480895888092804e+79,\n",
       "   5.5033260224074494e+81,\n",
       "   -1.7325540694705958e+84,\n",
       "   5.4544171859293185e+86,\n",
       "   -1.7171566164888465e+89,\n",
       "   5.4059430091962038e+91,\n",
       "   -1.7018960028487962e+94,\n",
       "   5.3578996293254973e+96,\n",
       "   -1.6867710124398685e+99,\n",
       "   5.3102832177645691e+101,\n",
       "   -1.6717804399592319e+104,\n",
       "   5.2630899799856824e+106,\n",
       "   -1.6569230908157528e+109,\n",
       "   5.2163161551836043e+111,\n",
       "   -1.6421977810347966e+114,\n",
       "   5.1699580159759083e+116,\n",
       "   -1.6276033371638807e+119,\n",
       "   5.1240118681059429e+121,\n",
       "   -1.6131385961791581e+124,\n",
       "   5.0784740501484373e+126,\n",
       "   -1.5988024053927408e+129,\n",
       "   5.0333409332177268e+131,\n",
       "   -1.5845936223608412e+134,\n",
       "   4.9886089206785642e+136,\n",
       "   -1.5705111147927303e+139,\n",
       "   4.9442744478595107e+141,\n",
       "   -1.5565537604605065e+144,\n",
       "   4.900333981768864e+146,\n",
       "   -1.5427204471096687e+149,\n",
       "   4.8567840208131225e+151,\n",
       "   -1.5290100723704763e+154,\n",
       "   4.8136210945179367e+156,\n",
       "   -1.5154215436701052e+159,\n",
       "   4.770841763251556e+161,\n",
       "   -1.5019537781455804e+164,\n",
       "   4.7284426179507236e+166,\n",
       "   -1.4886057025574836e+169,\n",
       "   4.6864202798490076e+171,\n",
       "   -1.4753762532044273e+174,\n",
       "   4.6447714002075528e+176,\n",
       "   -1.4622643758382874e+179,\n",
       "   4.6034926600482201e+181,\n",
       "   -1.449269025580193e+184,\n",
       "   4.5625807698890985e+186,\n",
       "   -1.4363891668372592e+189,\n",
       "   4.522032469482366e+191,\n",
       "   -1.4236237732200611e+194,\n",
       "   4.481844527554485e+196,\n",
       "   -1.4109718274608418e+199,\n",
       "   4.442013741548702e+201,\n",
       "   -1.398432321332447e+204,\n",
       "   4.4025369373698393e+206,\n",
       "   -1.3860042555679803e+209,\n",
       "   4.3634109691313523e+211,\n",
       "   -1.37368663978117e+214,\n",
       "   4.3246327189046335e+216,\n",
       "   -1.3614784923874493e+219,\n",
       "   4.2861990964705486e+221,\n",
       "   -1.34937884052573e+224,\n",
       "   4.2481070390731776e+226,\n",
       "   -1.3373867199808796e+229,\n",
       "   4.2103535111757468e+231,\n",
       "   -1.3255011751068811e+234,\n",
       "   4.1729355042187208e+236,\n",
       "   -1.3137212587506783e+239,\n",
       "   4.1358500363800674e+241,\n",
       "   -1.3020460321766995e+244,\n",
       "   4.09909415233762e+246,\n",
       "   -1.2904745649920472e+249],\n",
       "  'theta_zero': [0,\n",
       "   0.033700000000000001,\n",
       "   -10.646860096400003,\n",
       "   3351.7300472124621,\n",
       "   -1055189.9884802294,\n",
       "   332194331.17023826,\n",
       "   -104581236507.23808,\n",
       "   32924207318107.719,\n",
       "   -10365180827162312.0,\n",
       "   3.2631605232507674e+18,\n",
       "   -1.0273063999615145e+21,\n",
       "   3.2341603543013457e+23,\n",
       "   -1.0181765827338817e+26,\n",
       "   3.2054179139537218e+28,\n",
       "   -1.0091279034828185e+31,\n",
       "   3.1769309117373686e+33,\n",
       "   -1.0001596411236557e+36,\n",
       "   3.1486970775374991e+38,\n",
       "   -9.912710809801038e+40,\n",
       "   3.1207141614141541e+43,\n",
       "   -9.8246151472730393e+45,\n",
       "   3.0929799334229112e+48,\n",
       "   -9.7373024033538023e+50,\n",
       "   3.0654921834371774e+53,\n",
       "   -9.6507656201349525e+55,\n",
       "   3.0382487209720679e+58,\n",
       "   -9.5649979015440292e+60,\n",
       "   3.0112473750098486e+63,\n",
       "   -9.4799924127949504e+65,\n",
       "   2.9844859938269235e+68,\n",
       "   -9.3957423798433356e+70,\n",
       "   2.9579624448223717e+73,\n",
       "   -9.3122410888467036e+75,\n",
       "   2.9316746143479957e+78,\n",
       "   -9.2294818856294265e+80,\n",
       "   2.90562040753989e+83,\n",
       "   -9.147458175152495e+85,\n",
       "   2.8797977481515002e+88,\n",
       "   -9.0661634209879281e+90,\n",
       "   2.8542045783881692e+93,\n",
       "   -8.9855911447979143e+95,\n",
       "   2.828838858743151e+98,\n",
       "   -8.9057349258185386e+100,\n",
       "   2.8036985678350862e+103,\n",
       "   -8.8265884003481293e+105,\n",
       "   2.7787817022469143e+108,\n",
       "   -8.7481452612401296e+110,\n",
       "   2.7540862763662284e+113,\n",
       "   -8.6703992574004845e+115,\n",
       "   2.7296103222270378e+118,\n",
       "   -8.5933441932894897e+120,\n",
       "   2.7053518893529452e+123,\n",
       "   -8.5169739284280907e+125,\n",
       "   2.681309044601712e+128,\n",
       "   -8.4412823769085309e+130,\n",
       "   2.6574798720112083e+133,\n",
       "   -8.3662635069093765e+135,\n",
       "   2.633862472646731e+138,\n",
       "   -8.2919113402148457e+140,\n",
       "   2.6104549644496758e+143,\n",
       "   -8.2182199517384037e+145,\n",
       "   2.5872554820875636e+148,\n",
       "   -8.1451834690506055e+150,\n",
       "   2.5642621768053854e+153,\n",
       "   -8.0727960719111009e+155,\n",
       "   2.5414732162782809e+158,\n",
       "   -8.0010519918048506e+160,\n",
       "   2.5188867844655189e+163,\n",
       "   -7.9299455114824243e+165,\n",
       "   2.4965010814657797e+168,\n",
       "   -7.859470964504394e+170,\n",
       "   2.4743143233737206e+173,\n",
       "   -7.7896227347897723e+175,\n",
       "   2.4523247421378186e+178,\n",
       "   -7.7203952561684884e+180,\n",
       "   2.430530585419474e+183,\n",
       "   -7.6517830119378102e+185,\n",
       "   2.4089301164533685e+188,\n",
       "   -7.5837805344227145e+190,\n",
       "   2.3875216139090614e+193,\n",
       "   -7.5163824045401894e+195,\n",
       "   2.3663033717538207e+198,\n",
       "   -7.4495832513673703e+200,\n",
       "   2.3452736991166666e+203,\n",
       "   -7.3833777517135499e+205,\n",
       "   2.3244309201536318e+208,\n",
       "   -7.31776062969597e+210,\n",
       "   2.3037733739142075e+213,\n",
       "   -7.2527266563193876e+215,\n",
       "   2.2832994142089908e+218,\n",
       "   -7.1882706490593743e+220,\n",
       "   2.2630074094784936e+223,\n",
       "   -7.1243874714493392e+225,\n",
       "   2.2428957426631298e+228,\n",
       "   -7.0610720326711887e+230,\n",
       "   2.2229628110743493e+233,\n",
       "   -6.9983192871496437e+235,\n",
       "   2.2032070262669199e+238,\n",
       "   -6.9361242341501829e+240,\n",
       "   2.1836268139123528e+243,\n",
       "   -6.874481917380503e+245]},\n",
       " 'linear_regression': [64633.300000000003,\n",
       "  6363850528.9948387,\n",
       "  630729366916790.38,\n",
       "  6.2512398585355723e+19,\n",
       "  6.1956842060479976e+24,\n",
       "  6.1406222844991116e+29,\n",
       "  6.0860497060322518e+34,\n",
       "  6.0319621217862599e+39,\n",
       "  5.9783552215489241e+44,\n",
       "  5.9252247334134977e+49,\n",
       "  5.8725664234382639e+54,\n",
       "  5.8203760953091566e+59,\n",
       "  5.7686495900053395e+64,\n",
       "  5.7173827854677824e+69,\n",
       "  5.6665715962707812e+74,\n",
       "  5.6162119732963868e+79,\n",
       "  5.5662999034117262e+84,\n",
       "  5.516831409149214e+89,\n",
       "  5.4678025483895784e+94,\n",
       "  5.4192094140477227e+99,\n",
       "  5.3710481337613585e+104,\n",
       "  5.3233148695824382e+109,\n",
       "  5.2760058176712975e+114,\n",
       "  5.2291172079935319e+119,\n",
       "  5.1826453040195686e+124,\n",
       "  5.1365864024268971e+129,\n",
       "  5.0909368328049658e+134,\n",
       "  5.0456929573626684e+139,\n",
       "  5.0008511706384742e+144,\n",
       "  4.9564078992130923e+149,\n",
       "  4.9123596014247174e+154,\n",
       "  4.8687027670867891e+159,\n",
       "  4.8254339172082739e+164,\n",
       "  4.7825496037164263e+169,\n",
       "  4.7400464091820057e+174,\n",
       "  4.6979209465469539e+179,\n",
       "  4.656169858854473e+184,\n",
       "  4.6147898189815124e+189,\n",
       "  4.5737775293736406e+194,\n",
       "  4.533129721782257e+199,\n",
       "  4.4928431570041412e+204,\n",
       "  4.4529146246233399e+209,\n",
       "  4.4133409427553143e+214,\n",
       "  4.374118957793385e+219,\n",
       "  4.3352455441574225e+224,\n",
       "  4.2967176040447671e+229,\n",
       "  4.2585320671833683e+234,\n",
       "  4.2206858905871242e+239,\n",
       "  4.1831760583133728e+244,\n",
       "  4.1459995812225646e+249,\n",
       "  4.1091534967400556e+254,\n",
       "  4.0726348686200227e+259,\n",
       "  4.0364407867114743e+264,\n",
       "  4.0005683667263378e+269,\n",
       "  3.9650147500096231e+274,\n",
       "  3.9297771033116054e+279,\n",
       "  3.8948526185620559e+284,\n",
       "  3.8602385126464584e+289,\n",
       "  3.8259320271842308e+294,\n",
       "  3.7919304283089135e+299,\n",
       "  3.7582310064502967e+304,\n",
       "  inf,\n",
       "  inf,\n",
       "  inf,\n",
       "  inf,\n",
       "  inf,\n",
       "  inf,\n",
       "  inf,\n",
       "  inf,\n",
       "  inf,\n",
       "  inf,\n",
       "  inf,\n",
       "  inf,\n",
       "  inf,\n",
       "  inf,\n",
       "  inf,\n",
       "  inf,\n",
       "  inf,\n",
       "  inf,\n",
       "  inf,\n",
       "  inf,\n",
       "  inf,\n",
       "  inf,\n",
       "  inf,\n",
       "  inf,\n",
       "  inf,\n",
       "  inf,\n",
       "  inf,\n",
       "  inf,\n",
       "  inf,\n",
       "  inf,\n",
       "  inf,\n",
       "  inf,\n",
       "  inf,\n",
       "  inf,\n",
       "  inf,\n",
       "  inf,\n",
       "  inf,\n",
       "  inf,\n",
       "  inf]}"
      ]
     },
     "execution_count": 15,
     "metadata": {},
     "output_type": "execute_result"
    }
   ],
   "source": [
    "gradient_descent_values"
   ]
  },
  {
   "cell_type": "code",
   "execution_count": 17,
   "metadata": {},
   "outputs": [
    {
     "data": {
      "image/png": "[encoded data removed]",
      "text/plain": [
       "<matplotlib.figure.Figure at 0x7fc2732455f8>"
      ]
     },
     "metadata": {},
     "output_type": "display_data"
    }
   ],
   "source": [
    "counter = 0\n",
    "for i in range(len(gradient_descent_values['gradients']['theta_zero'])):\n",
    "    plt.bar([counter], gradient_descent_values['gradients']['theta_zero'][i])\n",
    "    counter += 1\n",
    "plt.show()"
   ]
  },
  {
   "cell_type": "code",
   "execution_count": 18,
   "metadata": {},
   "outputs": [
    {
     "data": {
      "image/png": "[encoded data removed]",
      "text/plain": [
       "<matplotlib.figure.Figure at 0x7fc273245da0>"
      ]
     },
     "metadata": {},
     "output_type": "display_data"
    }
   ],
   "source": [
    "plt.scatter(dataset['size_in_feet'], dataset['price'])\n",
    "plt.show()"
   ]
  },
  {
   "cell_type": "code",
   "execution_count": null,
   "metadata": {
    "collapsed": true
   },
   "outputs": [],
   "source": []
  }
 ],
 "metadata": {
  "kernelspec": {
   "display_name": "Python 3",
   "language": "python",
   "name": "python3"
  },
  "language_info": {
   "codemirror_mode": {
    "name": "ipython",
    "version": 3
   },
   "file_extension": ".py",
   "mimetype": "text/x-python",
   "name": "python",
   "nbconvert_exporter": "python",
   "pygments_lexer": "ipython3",
   "version": "3.5.3"
  }
 },
 "nbformat": 4,
 "nbformat_minor": 1
}
